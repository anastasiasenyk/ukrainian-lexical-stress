{
 "cells": [
  {
   "cell_type": "code",
   "execution_count": null,
   "id": "initial_id",
   "metadata": {
    "collapsed": true
   },
   "outputs": [],
   "source": [
    "import os\n",
    "import glob\n",
    "import torch\n",
    "from tqdm import tqdm\n",
    "from underthesea import sent_tokenize\n",
    "from TTS.tts.configs.xtts_config import XttsConfig\n",
    "from TTS.tts.models.xtts import Xtts\n",
    "\n",
    "device = \"cuda:0\" if torch.cuda.is_available() else \"CPU\"\n",
    "checkpoint_directory = \"./your_checkpoint_directory\"\n",
    "\n",
    "xtts_checkpoint = os.path.join(checkpoint_directory, \"checkpoint_*.pth\")\n",
    "xtts_checkpoint = glob.glob(xtts_checkpoint)[-1]\n",
    "xtts_config = os.path.join(checkpoint_directory, \"config.json\")\n",
    "xtts_vocab = os.path.join(checkpoint_directory, \"vocab.json\")\n",
    "\n",
    "# Load model\n",
    "config = XttsConfig()\n",
    "config.load_json(xtts_config)\n",
    "XTTS_MODEL_norm = Xtts.init_from_config(config)\n",
    "XTTS_MODEL_norm.load_checkpoint(config, checkpoint_path=xtts_checkpoint, vocab_path=xtts_vocab, use_deepspeed=False)\n",
    "XTTS_MODEL_norm.to(device)\n",
    "\n",
    "print(\"Model loaded successfully!\")"
   ]
  },
  {
   "metadata": {},
   "cell_type": "code",
   "outputs": [],
   "execution_count": null,
   "source": [
    "from phonemizer import Transcriptor\n",
    "from IPython.display import Audio\n",
    "\n",
    "speaker_audio_file = \"path_to_speaker.wav\" # replace with your wav file\n",
    "\n",
    "tts_text = \"прив+іт, +як +у т+ебе спр+ави?\"\n",
    "\n",
    "tts_text = Transcriptor(tts_text).to_ipa()\n",
    "\n",
    "gpt_cond_latent, speaker_embedding = XTTS_MODEL_norm.get_conditioning_latents(\n",
    "    audio_path=speaker_audio_file,\n",
    "    gpt_cond_len=XTTS_MODEL_norm.config.gpt_cond_len,\n",
    "    max_ref_length=XTTS_MODEL_norm.config.max_ref_len,\n",
    "    sound_norm_refs=XTTS_MODEL_norm.config.sound_norm_refs,\n",
    ")\n",
    "\n",
    "tts_texts = sent_tokenize(tts_text)\n",
    "\n",
    "wav_chunks = []\n",
    "for text in tqdm(tts_texts):\n",
    "    wav_chunk = XTTS_MODEL_norm.inference(\n",
    "        text=text,\n",
    "        language=\"uk\",\n",
    "        gpt_cond_latent=gpt_cond_latent,\n",
    "        speaker_embedding=speaker_embedding,\n",
    "        temperature=1,\n",
    "        length_penalty=1.0,\n",
    "        repetition_penalty=2.0,\n",
    "        top_k=1,\n",
    "        top_p=0.3,\n",
    "    )\n",
    "    wav_chunks.append(torch.tensor(wav_chunk[\"wav\"]))\n",
    "\n",
    "out_wav = torch.cat(wav_chunks, dim=0).unsqueeze(0).cpu()\n",
    "\n",
    "Audio(out_wav, rate=24000)"
   ],
   "id": "f9bfad8eea155612"
  }
 ],
 "metadata": {
  "kernelspec": {
   "display_name": "Python 3",
   "language": "python",
   "name": "python3"
  },
  "language_info": {
   "codemirror_mode": {
    "name": "ipython",
    "version": 2
   },
   "file_extension": ".py",
   "mimetype": "text/x-python",
   "name": "python",
   "nbconvert_exporter": "python",
   "pygments_lexer": "ipython2",
   "version": "2.7.6"
  }
 },
 "nbformat": 4,
 "nbformat_minor": 5
}
